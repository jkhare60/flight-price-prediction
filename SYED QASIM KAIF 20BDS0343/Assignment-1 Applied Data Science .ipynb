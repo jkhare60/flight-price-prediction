{
 "cells": [
  {
   "cell_type": "code",
   "execution_count": 1,
   "id": "88032aa4",
   "metadata": {},
   "outputs": [],
   "source": [
    "##Assignment -1 \n",
    "## Applied Data Science\n",
    "\n"
   ]
  },
  {
   "cell_type": "code",
   "execution_count": 21,
   "id": "4f821a92",
   "metadata": {},
   "outputs": [],
   "source": [
    "import numpy as np\n",
    "import pandas as pd \n",
    "from datetime import datetime, timedelta"
   ]
  },
  {
   "cell_type": "code",
   "execution_count": 22,
   "id": "f35ebfb5",
   "metadata": {},
   "outputs": [
    {
     "name": "stdout",
     "output_type": "stream",
     "text": [
      "Syed Qasim Kaif\n",
      "20\n"
     ]
    }
   ],
   "source": [
    "## Q1. Assign your Name to variable name and Age to variable age. Make a Python program that \n",
    "## prints your name and age.\n",
    "\n",
    "name=\"Syed Qasim Kaif\"\n",
    "age=20;\n",
    "print(name)\n",
    "print(age)"
   ]
  },
  {
   "cell_type": "code",
   "execution_count": 23,
   "id": "677b472e",
   "metadata": {},
   "outputs": [
    {
     "data": {
      "text/plain": [
       "['Datascience', 'is', 'used', 'to', 'extract', 'meaningful', 'insights.']"
      ]
     },
     "execution_count": 23,
     "metadata": {},
     "output_type": "execute_result"
    }
   ],
   "source": [
    "##Q2.X=\"Datascience is used to extract meaningful insights.\"\n",
    "## Split the string\n",
    "X=\"Datascience is used to extract meaningful insights.\"\n",
    "X.split()\n"
   ]
  },
  {
   "cell_type": "code",
   "execution_count": 24,
   "id": "11afb91d",
   "metadata": {},
   "outputs": [
    {
     "name": "stdout",
     "output_type": "stream",
     "text": [
      "3\n"
     ]
    }
   ],
   "source": [
    "##Q3. Make a function that gives multiplication of two numbers\n",
    "\n",
    "def multiply_numbers(n1, n2):\n",
    "    mult = n1 * n2\n",
    "    return mult\n",
    "mult=multiply_numbers(1,3)\n",
    "print(mult)\n"
   ]
  },
  {
   "cell_type": "code",
   "execution_count": 25,
   "id": "080ec33e",
   "metadata": {},
   "outputs": [
    {
     "name": "stdout",
     "output_type": "stream",
     "text": [
      "Maharastra\n",
      "Gujarat\n",
      "Telengana\n",
      "Tamil Nadu\n",
      "Karnataka\n",
      "Mumbai\n",
      "Gandhinagar\n",
      "Hyderabad\n",
      "Chennai\n",
      "Bengaluru\n"
     ]
    }
   ],
   "source": [
    "## Q4. Create a Dictionary of 5 States with their capitals. also print the keys and values.\n",
    "\n",
    "# Creating a dictionary of states and capitals\n",
    "statescapitals = {\n",
    "    'Maharastra': 'Mumbai',\n",
    "    'Gujarat': 'Gandhinagar',\n",
    "    'Telengana': 'Hyderabad',\n",
    "    'Tamil Nadu': 'Chennai',\n",
    "    'Karnataka': 'Bengaluru'\n",
    "}\n",
    "for state in statescapitals.keys():\n",
    "    print(state)\n",
    "for capital in statescapitals.values():\n",
    "    print(capital)\n"
   ]
  },
  {
   "cell_type": "code",
   "execution_count": 26,
   "id": "d605d438",
   "metadata": {},
   "outputs": [],
   "source": [
    "##Q5.Create a list of 1000 numbers using range function.\n",
    "l=[]\n",
    "for i in range(1,10001):\n",
    "    l.append(i)\n"
   ]
  },
  {
   "cell_type": "code",
   "execution_count": 27,
   "id": "caee993b",
   "metadata": {},
   "outputs": [
    {
     "name": "stdout",
     "output_type": "stream",
     "text": [
      "[[1. 0. 0. 0.]\n",
      " [0. 1. 0. 0.]\n",
      " [0. 0. 1. 0.]\n",
      " [0. 0. 0. 1.]]\n"
     ]
    }
   ],
   "source": [
    "##Q6.Create an identity matrix of dimension 4 by 4\n",
    "\n",
    "identity_matrix = np.eye(4)\n",
    "print(identity_matrix)"
   ]
  },
  {
   "cell_type": "code",
   "execution_count": 28,
   "id": "16c16a00",
   "metadata": {},
   "outputs": [
    {
     "name": "stdout",
     "output_type": "stream",
     "text": [
      "[[1 2 3]\n",
      " [4 5 6]\n",
      " [7 8 9]]\n"
     ]
    }
   ],
   "source": [
    "##Q7. Create a 3x3 matrix with values ranging from 1 to 9\n",
    "array_1dim = np.arange(1, 10)\n",
    "matrix_3x3 = np.reshape(array_1dim, (3, 3))\n",
    "print(matrix_3x3)\n"
   ]
  },
  {
   "cell_type": "code",
   "execution_count": 29,
   "id": "7eaaceb3",
   "metadata": {},
   "outputs": [
    {
     "name": "stdout",
     "output_type": "stream",
     "text": [
      "[[11 13 15]\n",
      " [17 19 21]\n",
      " [23 25 27]]\n"
     ]
    }
   ],
   "source": [
    "##Q8. Create 2 similar dimensional array and perform sum on them\n",
    "array1 = np.array([[1, 2, 3],\n",
    "                   [4, 5, 6],\n",
    "                   [7, 8, 9]])\n",
    "\n",
    "array2 = np.array([[10, 11, 12],\n",
    "                   [13, 14, 15],\n",
    "                   [16, 17, 18]])\n",
    "result = array1 + array2\n",
    "print(result)\n"
   ]
  },
  {
   "cell_type": "code",
   "execution_count": 31,
   "id": "97a4e6af",
   "metadata": {},
   "outputs": [
    {
     "name": "stdout",
     "output_type": "stream",
     "text": [
      "['01-02-2023', '02-02-2023', '03-02-2023', '04-02-2023', '05-02-2023', '06-02-2023', '07-02-2023', '08-02-2023', '09-02-2023', '10-02-2023', '11-02-2023', '12-02-2023', '13-02-2023', '14-02-2023', '15-02-2023', '16-02-2023', '17-02-2023', '18-02-2023', '19-02-2023', '20-02-2023', '21-02-2023', '22-02-2023', '23-02-2023', '24-02-2023', '25-02-2023', '26-02-2023', '27-02-2023', '28-02-2023', '01-03-2023']\n"
     ]
    }
   ],
   "source": [
    "##Q9. Generate the series of dates from 1st Feb, 2023 to 1st March, 2023 (both inclusive)\n",
    "start_date = datetime(2023, 2, 1)\n",
    "end_date = datetime(2023, 3, 1)\n",
    "\n",
    "dates = []\n",
    "current_date = start_date\n",
    "\n",
    "while current_date <= end_date:\n",
    "    dates.append(current_date.strftime('%d-%m-%Y'))\n",
    "    current_date += timedelta(days=1)\n",
    "\n",
    "print(dates)\n"
   ]
  },
  {
   "cell_type": "code",
   "execution_count": 32,
   "id": "71973012",
   "metadata": {},
   "outputs": [
    {
     "name": "stdout",
     "output_type": "stream",
     "text": [
      "     Brand  Sales\n",
      "0   Maruti    250\n",
      "1  Renault    200\n",
      "2  Hyundai    240\n"
     ]
    }
   ],
   "source": [
    "## Q10. Given a dictionary, convert it into corresponding dataframe and display it\n",
    "## dictionary = {'Brand': ['Maruti', 'Renault', 'Hyndai'], 'Sales' : [250, 200, 240]\n",
    "\n",
    "dictionary = {'Brand': ['Maruti', 'Renault', 'Hyundai'], 'Sales': [250, 200, 240]}\n",
    "df = pd.DataFrame(dictionary)\n",
    "print(df)"
   ]
  },
  {
   "cell_type": "code",
   "execution_count": null,
   "id": "bbae4586",
   "metadata": {},
   "outputs": [],
   "source": []
  }
 ],
 "metadata": {
  "kernelspec": {
   "display_name": "Python 3 (ipykernel)",
   "language": "python",
   "name": "python3"
  },
  "language_info": {
   "codemirror_mode": {
    "name": "ipython",
    "version": 3
   },
   "file_extension": ".py",
   "mimetype": "text/x-python",
   "name": "python",
   "nbconvert_exporter": "python",
   "pygments_lexer": "ipython3",
   "version": "3.9.7"
  }
 },
 "nbformat": 4,
 "nbformat_minor": 5
}
